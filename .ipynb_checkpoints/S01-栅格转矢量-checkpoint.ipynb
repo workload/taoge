{
 "cells": [
  {
   "cell_type": "markdown",
   "metadata": {},
   "source": [
    "# 逻辑与步骤"
   ]
  },
  {
   "cell_type": "code",
   "execution_count": 1,
   "metadata": {
    "ExecuteTime": {
     "end_time": "2022-07-02T09:21:19.175238Z",
     "start_time": "2022-07-02T09:21:18.619142Z"
    }
   },
   "outputs": [],
   "source": [
    "from osgeo import gdal, ogr, osr\n",
    "import os"
   ]
  },
  {
   "cell_type": "code",
   "execution_count": 2,
   "metadata": {
    "ExecuteTime": {
     "end_time": "2022-07-02T09:21:19.659040Z",
     "start_time": "2022-07-02T09:21:19.654037Z"
    }
   },
   "outputs": [],
   "source": [
    "file_name = '09002900121904141529275755R'\n",
    "raster = 'streetview_fisheye/{}.png'.format(file_name)"
   ]
  },
  {
   "cell_type": "code",
   "execution_count": 3,
   "metadata": {
    "ExecuteTime": {
     "end_time": "2022-07-02T09:21:21.420464Z",
     "start_time": "2022-07-02T09:21:20.372895Z"
    }
   },
   "outputs": [
    {
     "data": {
      "image/png": "[encoded data removed]",
      "text/plain": [
       "<Figure size 432x288 with 1 Axes>"
      ]
     },
     "metadata": {
      "needs_background": "light"
     },
     "output_type": "display_data"
    }
   ],
   "source": [
    "import matplotlib.pyplot as plt\n",
    "\n",
    "img = plt.imread(raster)\n",
    "\n",
    "plt.imshow(img)\n",
    "plt.show()"
   ]
  },
  {
   "cell_type": "code",
   "execution_count": 4,
   "metadata": {
    "ExecuteTime": {
     "end_time": "2022-07-02T09:21:22.024004Z",
     "start_time": "2022-07-02T09:21:21.995187Z"
    }
   },
   "outputs": [],
   "source": [
    "inraster = gdal.Open(raster)\n",
    "inband = inraster.GetRasterBand(1)"
   ]
  },
  {
   "cell_type": "code",
   "execution_count": 5,
   "metadata": {
    "ExecuteTime": {
     "end_time": "2022-07-02T09:21:22.528066Z",
     "start_time": "2022-07-02T09:21:22.503062Z"
    }
   },
   "outputs": [
    {
     "data": {
      "text/plain": [
       "5"
      ]
     },
     "execution_count": 5,
     "metadata": {},
     "output_type": "execute_result"
    }
   ],
   "source": [
    "prj = osr.SpatialReference()  \n",
    "prj.ImportFromWkt(inraster.GetProjection())   #读取栅格数据的投影信息，用来为后面生成的矢量做准备"
   ]
  },
  {
   "cell_type": "code",
   "execution_count": 6,
   "metadata": {
    "ExecuteTime": {
     "end_time": "2022-07-02T09:21:22.948995Z",
     "start_time": "2022-07-02T09:21:22.806339Z"
    }
   },
   "outputs": [],
   "source": [
    "outshp = 'streetview_shp/{}.shp'.format(file_name) #给后面生成的矢量准备一个输出文件名，这里就是把原栅格的文件名后缀名改成shp了\n",
    "drv = ogr.GetDriverByName(\"ESRI Shapefile\")\n",
    "if os.path.exists(outshp):  #若文件已经存在，则删除它继续重新做一遍\n",
    "    drv.DeleteDataSource(outshp)\n",
    "Polygon = drv.CreateDataSource(outshp)  #创建一个目标文件\n",
    "Poly_layer = Polygon.CreateLayer(outshp[:-4], srs = prj, geom_type = ogr.wkbMultiPolygon) #对shp文件创建一个图层，定义为多个面类\n",
    "newField = ogr.FieldDefn('value',ogr.OFTReal)  #给目标shp文件添加一个字段，用来存储原始栅格的pixel value\n",
    "Poly_layer.CreateField(newField)\n",
    "\n",
    "gdal.FPolygonize(inband, None, Poly_layer, 0) #核心函数，执行的就是栅格转矢量操作\n",
    "Polygon.SyncToDisk() \n",
    "Polygon = None"
   ]
  },
  {
   "cell_type": "code",
   "execution_count": 7,
   "metadata": {
    "ExecuteTime": {
     "end_time": "2022-07-02T09:21:25.118735Z",
     "start_time": "2022-07-02T09:21:23.458560Z"
    }
   },
   "outputs": [],
   "source": [
    "import geopandas as gpd"
   ]
  },
  {
   "cell_type": "code",
   "execution_count": 8,
   "metadata": {
    "ExecuteTime": {
     "end_time": "2022-07-02T09:21:25.259035Z",
     "start_time": "2022-07-02T09:21:25.120732Z"
    }
   },
   "outputs": [],
   "source": [
    "gdf = gpd.read_file(outshp)"
   ]
  },
  {
   "cell_type": "code",
   "execution_count": 9,
   "metadata": {
    "ExecuteTime": {
     "end_time": "2022-07-02T09:21:25.978136Z",
     "start_time": "2022-07-02T09:21:25.261558Z"
    }
   },
   "outputs": [
    {
     "data": {
      "text/plain": [
       "<AxesSubplot:>"
      ]
     },
     "execution_count": 9,
     "metadata": {},
     "output_type": "execute_result"
    },
    {
     "data": {
      "image/png": "[encoded data removed]",
      "text/plain": [
       "<Figure size 432x288 with 1 Axes>"
      ]
     },
     "metadata": {
      "needs_background": "light"
     },
     "output_type": "display_data"
    }
   ],
   "source": [
    "gdf.plot(edgecolor='red')"
   ]
  },
  {
   "cell_type": "code",
   "execution_count": 10,
   "metadata": {
    "ExecuteTime": {
     "end_time": "2022-07-02T09:21:26.010141Z",
     "start_time": "2022-07-02T09:21:25.980137Z"
    }
   },
   "outputs": [
    {
     "data": {
      "text/html": [
       "<div>\n",
       "<style scoped>\n",
       "    .dataframe tbody tr th:only-of-type {\n",
       "        vertical-align: middle;\n",
       "    }\n",
       "\n",
       "    .dataframe tbody tr th {\n",
       "        vertical-align: top;\n",
       "    }\n",
       "\n",
       "    .dataframe thead th {\n",
       "        text-align: right;\n",
       "    }\n",
       "</style>\n",
       "<table border=\"1\" class=\"dataframe\">\n",
       "  <thead>\n",
       "    <tr style=\"text-align: right;\">\n",
       "      <th></th>\n",
       "      <th>value</th>\n",
       "      <th>geometry</th>\n",
       "    </tr>\n",
       "  </thead>\n",
       "  <tbody>\n",
       "    <tr>\n",
       "      <th>0</th>\n",
       "      <td>1.0</td>\n",
       "      <td>POLYGON ((193.000 19.000, 193.000 20.000, 194....</td>\n",
       "    </tr>\n",
       "  </tbody>\n",
       "</table>\n",
       "</div>"
      ],
      "text/plain": [
       "   value                                           geometry\n",
       "0    1.0  POLYGON ((193.000 19.000, 193.000 20.000, 194...."
      ]
     },
     "execution_count": 10,
     "metadata": {},
     "output_type": "execute_result"
    }
   ],
   "source": [
    "gdf.head(1)"
   ]
  },
  {
   "cell_type": "code",
   "execution_count": 11,
   "metadata": {
    "ExecuteTime": {
     "end_time": "2022-07-02T09:21:26.196131Z",
     "start_time": "2022-07-02T09:21:26.070876Z"
    }
   },
   "outputs": [
    {
     "data": {
      "text/plain": [
       "326.0"
      ]
     },
     "execution_count": 11,
     "metadata": {},
     "output_type": "execute_result"
    }
   ],
   "source": [
    "max(gdf.bounds['maxx'])"
   ]
  },
  {
   "cell_type": "code",
   "execution_count": 12,
   "metadata": {
    "ExecuteTime": {
     "end_time": "2022-07-02T09:21:26.957688Z",
     "start_time": "2022-07-02T09:21:26.802871Z"
    }
   },
   "outputs": [
    {
     "data": {
      "text/plain": [
       "163.0"
      ]
     },
     "execution_count": 12,
     "metadata": {},
     "output_type": "execute_result"
    }
   ],
   "source": [
    "max(gdf.bounds['maxy']) / 2"
   ]
  },
  {
   "cell_type": "code",
   "execution_count": 13,
   "metadata": {
    "ExecuteTime": {
     "end_time": "2022-07-02T09:21:28.132486Z",
     "start_time": "2022-07-02T09:21:27.405563Z"
    }
   },
   "outputs": [
    {
     "data": {
      "text/plain": [
       "<AxesSubplot:>"
      ]
     },
     "execution_count": 13,
     "metadata": {},
     "output_type": "execute_result"
    },
    {
     "data": {
      "image/png": "[encoded data removed]",
      "text/plain": [
       "<Figure size 432x288 with 1 Axes>"
      ]
     },
     "metadata": {
      "needs_background": "light"
     },
     "output_type": "display_data"
    }
   ],
   "source": [
    "gdf['geometry'].scale(yfact=-1,origin=(163,163)).plot(edgecolor='red')"
   ]
  },
  {
   "cell_type": "code",
   "execution_count": 14,
   "metadata": {
    "ExecuteTime": {
     "end_time": "2022-07-02T09:21:28.323384Z",
     "start_time": "2022-07-02T09:21:28.136490Z"
    }
   },
   "outputs": [],
   "source": [
    "gdf['geometry'] = gdf['geometry'].scale(yfact=-1,origin=(163,163))"
   ]
  },
  {
   "cell_type": "code",
   "execution_count": 15,
   "metadata": {
    "ExecuteTime": {
     "end_time": "2022-07-02T09:21:29.335634Z",
     "start_time": "2022-07-02T09:21:28.567471Z"
    }
   },
   "outputs": [
    {
     "data": {
      "text/plain": [
       "<AxesSubplot:>"
      ]
     },
     "execution_count": 15,
     "metadata": {},
     "output_type": "execute_result"
    },
    {
     "data": {
      "image/png": "[encoded data removed]",
      "text/plain": [
       "<Figure size 432x288 with 1 Axes>"
      ]
     },
     "metadata": {
      "needs_background": "light"
     },
     "output_type": "display_data"
    }
   ],
   "source": [
    "gdf.plot(edgecolor='red')"
   ]
  },
  {
   "cell_type": "code",
   "execution_count": 16,
   "metadata": {
    "ExecuteTime": {
     "end_time": "2022-07-02T09:21:29.834221Z",
     "start_time": "2022-07-02T09:21:29.343641Z"
    }
   },
   "outputs": [],
   "source": [
    "# gdf.to_file(outshp)"
   ]
  },
  {
   "cell_type": "code",
   "execution_count": 17,
   "metadata": {
    "ExecuteTime": {
     "end_time": "2022-07-02T09:21:49.707791Z",
     "start_time": "2022-07-02T09:21:48.669632Z"
    }
   },
   "outputs": [
    {
     "data": {
      "text/plain": [
       "<AxesSubplot:>"
      ]
     },
     "execution_count": 17,
     "metadata": {},
     "output_type": "execute_result"
    },
    {
     "data": {
      "image/png": "[encoded data removed]",
      "text/plain": [
       "<Figure size 432x288 with 1 Axes>"
      ]
     },
     "metadata": {
      "needs_background": "light"
     },
     "output_type": "display_data"
    }
   ],
   "source": [
    "gdf = gpd.read_file(outshp)\n",
    "gdf.plot(edgecolor='red')"
   ]
  },
  {
   "cell_type": "markdown",
   "metadata": {},
   "source": [
    "# 代码组合"
   ]
  },
  {
   "cell_type": "code",
   "execution_count": 18,
   "metadata": {
    "ExecuteTime": {
     "end_time": "2022-07-02T09:21:54.082115Z",
     "start_time": "2022-07-02T09:21:53.504571Z"
    }
   },
   "outputs": [],
   "source": [
    "from osgeo import gdal, ogr, osr\n",
    "import os\n",
    "import geopandas as gpd\n",
    "\n",
    "file_name = '09002900121904141604049465R'\n",
    "raster = 'streetview_fisheye/{}.png'.format(file_name)\n",
    "\n",
    "inraster = gdal.Open(raster)  #读取路径中的栅格数据\n",
    "inband = inraster.GetRasterBand(1)  #这个波段就是最后想要转为矢量的波段，如果是单波段数据的话那就都是1\n",
    "prj = osr.SpatialReference()  \n",
    "prj.ImportFromWkt(inraster.GetProjection())   #读取栅格数据的投影信息，用来为后面生成的矢量做准备\n",
    "\n",
    "outshp = 'streetview_shp/{}.shp'.format(file_name) #给后面生成的矢量准备一个输出文件名，这里就是把原栅格的文件名后缀名改成shp了\n",
    "drv = ogr.GetDriverByName(\"ESRI Shapefile\")\n",
    "if os.path.exists(outshp):  #若文件已经存在，则删除它继续重新做一遍\n",
    "    drv.DeleteDataSource(outshp)\n",
    "Polygon = drv.CreateDataSource(outshp)  #创建一个目标文件\n",
    "Poly_layer = Polygon.CreateLayer(outshp[:-4], srs = prj, geom_type = ogr.wkbMultiPolygon) #对shp文件创建一个图层，定义为多个面类\n",
    "newField = ogr.FieldDefn('value',ogr.OFTReal)  #给目标shp文件添加一个字段，用来存储原始栅格的pixel value\n",
    "Poly_layer.CreateField(newField)\n",
    "\n",
    "gdal.FPolygonize(inband, None, Poly_layer, 0) #核心函数，执行的就是栅格转矢量操作\n",
    "Polygon.SyncToDisk() \n",
    "Polygon = None\n",
    "\n",
    "gdf = gpd.read_file(outshp)\n",
    "gdf['geometry'] = gdf['geometry'].scale(yfact=-1,origin=(163,163))\n",
    "gdf.to_file(outshp)\n"
   ]
  },
  {
   "cell_type": "code",
   "execution_count": 19,
   "metadata": {
    "ExecuteTime": {
     "end_time": "2022-07-02T09:21:54.191843Z",
     "start_time": "2022-07-02T09:21:54.183831Z"
    }
   },
   "outputs": [],
   "source": [
    "file_name = '09002900121904141529301385R'\n",
    "outshp = 'streetview_shp/{}.shp'.format(file_name)"
   ]
  },
  {
   "cell_type": "code",
   "execution_count": 20,
   "metadata": {
    "ExecuteTime": {
     "end_time": "2022-07-02T09:21:55.886015Z",
     "start_time": "2022-07-02T09:21:54.796070Z"
    }
   },
   "outputs": [
    {
     "data": {
      "text/plain": [
       "<AxesSubplot:>"
      ]
     },
     "execution_count": 20,
     "metadata": {},
     "output_type": "execute_result"
    },
    {
     "data": {
      "image/png": "[encoded data removed]",
      "text/plain": [
       "<Figure size 432x288 with 1 Axes>"
      ]
     },
     "metadata": {
      "needs_background": "light"
     },
     "output_type": "display_data"
    }
   ],
   "source": [
    "gdf = gpd.read_file(outshp)\n",
    "gdf.plot(edgecolor='red')"
   ]
  },
  {
   "cell_type": "code",
   "execution_count": null,
   "metadata": {},
   "outputs": [],
   "source": []
  }
 ],
 "metadata": {
  "kernelspec": {
   "display_name": "Python 3",
   "language": "python",
   "name": "python3"
  },
  "language_info": {
   "codemirror_mode": {
    "name": "ipython",
    "version": 3
   },
   "file_extension": ".py",
   "mimetype": "text/x-python",
   "name": "python",
   "nbconvert_exporter": "python",
   "pygments_lexer": "ipython3",
   "version": "3.8.8"
  },
  "toc": {
   "base_numbering": 1,
   "nav_menu": {},
   "number_sections": true,
   "sideBar": true,
   "skip_h1_title": false,
   "title_cell": "Table of Contents",
   "title_sidebar": "Contents",
   "toc_cell": false,
   "toc_position": {},
   "toc_section_display": true,
   "toc_window_display": true
  }
 },
 "nbformat": 4,
 "nbformat_minor": 4
}
