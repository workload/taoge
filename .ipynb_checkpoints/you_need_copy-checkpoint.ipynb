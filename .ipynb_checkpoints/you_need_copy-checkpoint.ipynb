{
 "cells": [
  {
   "cell_type": "markdown",
   "id": "e39f12ad",
   "metadata": {},
   "source": [
    "# 读取mongodb数据库文件"
   ]
  },
  {
   "cell_type": "code",
   "execution_count": 1,
   "id": "5681ae13",
   "metadata": {
    "ExecuteTime": {
     "end_time": "2022-06-25T03:48:58.619932Z",
     "start_time": "2022-06-25T03:48:57.662346Z"
    }
   },
   "outputs": [],
   "source": [
    "import pymongo\n",
    "import pandas as pd"
   ]
  },
  {
   "cell_type": "code",
   "execution_count": 2,
   "id": "0212e540",
   "metadata": {
    "ExecuteTime": {
     "end_time": "2022-06-25T03:48:58.681773Z",
     "start_time": "2022-06-25T03:48:58.620887Z"
    }
   },
   "outputs": [],
   "source": [
    "myclient = pymongo.MongoClient(\"mongodb://localhost:27017/\")\n",
    "db = myclient[\"Macao\"] \n",
    "tb = db['Macao_PT_2019-08-01_10:00']\n",
    "\n",
    "# x = [i for i in tb.find()]\n",
    "x = [i for i in tb.find().limit(5).skip(5)] # 数据较大时使用\n",
    "df = pd.DataFrame(x)"
   ]
  },
  {
   "cell_type": "code",
   "execution_count": 3,
   "id": "eb6e22cc",
   "metadata": {
    "ExecuteTime": {
     "end_time": "2022-06-25T03:48:58.727547Z",
     "start_time": "2022-06-25T03:48:58.689651Z"
    }
   },
   "outputs": [
    {
     "data": {
      "text/html": [
       "<div>\n",
       "<style scoped>\n",
       "    .dataframe tbody tr th:only-of-type {\n",
       "        vertical-align: middle;\n",
       "    }\n",
       "\n",
       "    .dataframe tbody tr th {\n",
       "        vertical-align: top;\n",
       "    }\n",
       "\n",
       "    .dataframe thead th {\n",
       "        text-align: right;\n",
       "    }\n",
       "</style>\n",
       "<table border=\"1\" class=\"dataframe\">\n",
       "  <thead>\n",
       "    <tr style=\"text-align: right;\">\n",
       "      <th></th>\n",
       "      <th>_id</th>\n",
       "      <th>all_distance</th>\n",
       "      <th>all_time</th>\n",
       "      <th>all_price</th>\n",
       "      <th>all_walk_distance</th>\n",
       "      <th>all_walk_time</th>\n",
       "      <th>access_walk_distance</th>\n",
       "      <th>egress_walk_distance</th>\n",
       "      <th>number_of_boardings</th>\n",
       "      <th>label</th>\n",
       "      <th>pt</th>\n",
       "    </tr>\n",
       "  </thead>\n",
       "  <tbody>\n",
       "    <tr>\n",
       "      <th>0</th>\n",
       "      <td>62b01ceee7210870c6afca65</td>\n",
       "      <td>2808</td>\n",
       "      <td>1455</td>\n",
       "      <td>6.0</td>\n",
       "      <td>645</td>\n",
       "      <td>645</td>\n",
       "      <td>499</td>\n",
       "      <td>84</td>\n",
       "      <td>1</td>\n",
       "      <td>ID704547</td>\n",
       "      <td>1</td>\n",
       "    </tr>\n",
       "    <tr>\n",
       "      <th>1</th>\n",
       "      <td>62b01ceee7210870c6afca6a</td>\n",
       "      <td>1964</td>\n",
       "      <td>1254</td>\n",
       "      <td>6.0</td>\n",
       "      <td>465</td>\n",
       "      <td>465</td>\n",
       "      <td>231</td>\n",
       "      <td>202</td>\n",
       "      <td>1</td>\n",
       "      <td>ID581966</td>\n",
       "      <td>1</td>\n",
       "    </tr>\n",
       "    <tr>\n",
       "      <th>2</th>\n",
       "      <td>62b01ceee7210870c6afca6b</td>\n",
       "      <td>5213</td>\n",
       "      <td>2225</td>\n",
       "      <td>6.0</td>\n",
       "      <td>584</td>\n",
       "      <td>584</td>\n",
       "      <td>194</td>\n",
       "      <td>305</td>\n",
       "      <td>1</td>\n",
       "      <td>ID1199860</td>\n",
       "      <td>1</td>\n",
       "    </tr>\n",
       "    <tr>\n",
       "      <th>3</th>\n",
       "      <td>62b01ceee7210870c6afca6c</td>\n",
       "      <td>1543</td>\n",
       "      <td>1424</td>\n",
       "      <td>6.0</td>\n",
       "      <td>789</td>\n",
       "      <td>789</td>\n",
       "      <td>295</td>\n",
       "      <td>467</td>\n",
       "      <td>1</td>\n",
       "      <td>ID1017821</td>\n",
       "      <td>1</td>\n",
       "    </tr>\n",
       "    <tr>\n",
       "      <th>4</th>\n",
       "      <td>62b01ceee7210870c6afca6d</td>\n",
       "      <td>3116</td>\n",
       "      <td>1903</td>\n",
       "      <td>6.0</td>\n",
       "      <td>689</td>\n",
       "      <td>689</td>\n",
       "      <td>257</td>\n",
       "      <td>222</td>\n",
       "      <td>1</td>\n",
       "      <td>ID1183318</td>\n",
       "      <td>1</td>\n",
       "    </tr>\n",
       "  </tbody>\n",
       "</table>\n",
       "</div>"
      ],
      "text/plain": [
       "                        _id  all_distance  all_time  all_price  \\\n",
       "0  62b01ceee7210870c6afca65          2808      1455        6.0   \n",
       "1  62b01ceee7210870c6afca6a          1964      1254        6.0   \n",
       "2  62b01ceee7210870c6afca6b          5213      2225        6.0   \n",
       "3  62b01ceee7210870c6afca6c          1543      1424        6.0   \n",
       "4  62b01ceee7210870c6afca6d          3116      1903        6.0   \n",
       "\n",
       "   all_walk_distance  all_walk_time  access_walk_distance  \\\n",
       "0                645            645                   499   \n",
       "1                465            465                   231   \n",
       "2                584            584                   194   \n",
       "3                789            789                   295   \n",
       "4                689            689                   257   \n",
       "\n",
       "   egress_walk_distance  number_of_boardings      label  pt  \n",
       "0                    84                    1   ID704547   1  \n",
       "1                   202                    1   ID581966   1  \n",
       "2                   305                    1  ID1199860   1  \n",
       "3                   467                    1  ID1017821   1  \n",
       "4                   222                    1  ID1183318   1  "
      ]
     },
     "execution_count": 3,
     "metadata": {},
     "output_type": "execute_result"
    }
   ],
   "source": [
    "df"
   ]
  },
  {
   "cell_type": "markdown",
   "id": "f2261b2f",
   "metadata": {},
   "source": [
    "# geopandas创建点线面"
   ]
  },
  {
   "cell_type": "code",
   "execution_count": 4,
   "id": "667d1888",
   "metadata": {
    "ExecuteTime": {
     "end_time": "2022-06-25T03:48:58.991875Z",
     "start_time": "2022-06-25T03:48:58.731533Z"
    }
   },
   "outputs": [],
   "source": [
    "import geopandas as gpd\n",
    "import pandas as pd"
   ]
  },
  {
   "cell_type": "markdown",
   "id": "2e34d82c",
   "metadata": {},
   "source": [
    "## 准备一些数据"
   ]
  },
  {
   "cell_type": "code",
   "execution_count": 5,
   "id": "81af5703",
   "metadata": {
    "ExecuteTime": {
     "end_time": "2022-06-25T03:48:59.053673Z",
     "start_time": "2022-06-25T03:48:59.000824Z"
    }
   },
   "outputs": [],
   "source": [
    "myclient = pymongo.MongoClient(\"mongodb://localhost:27017/\")\n",
    "\n",
    "db = myclient[\"fang_shanghai\"] \n",
    "tb = db['data']\n",
    "x = [i for i in tb.find({},{\"projname\": 1, \"x\": 1,\"y\": 1}).limit(5).skip(5)] # 数据较大时使用\n",
    "df_point = pd.DataFrame(x)\n",
    "\n",
    "db = myclient[\"Traffic\"] \n",
    "tb = db['2020-06-03-19-59']\n",
    "x = [i for i in tb.find({},{\"direction\": 1, \"line_wgs84\": 1}).limit(5).skip(5)] # 数据较大时使用\n",
    "df_line = pd.DataFrame(x)\n",
    "\n",
    "# x = [i for i in tb.find({},{\"direction\": 1, \"line_wgs84\": 1}).limit(5).skip(5)] # 数据较大时使用\n",
    "# df_line = pd.DataFrame(x)"
   ]
  },
  {
   "cell_type": "code",
   "execution_count": 6,
   "id": "4d5b6035",
   "metadata": {
    "ExecuteTime": {
     "end_time": "2022-06-25T03:48:59.069630Z",
     "start_time": "2022-06-25T03:48:59.056666Z"
    }
   },
   "outputs": [
    {
     "data": {
      "text/html": [
       "<div>\n",
       "<style scoped>\n",
       "    .dataframe tbody tr th:only-of-type {\n",
       "        vertical-align: middle;\n",
       "    }\n",
       "\n",
       "    .dataframe tbody tr th {\n",
       "        vertical-align: top;\n",
       "    }\n",
       "\n",
       "    .dataframe thead th {\n",
       "        text-align: right;\n",
       "    }\n",
       "</style>\n",
       "<table border=\"1\" class=\"dataframe\">\n",
       "  <thead>\n",
       "    <tr style=\"text-align: right;\">\n",
       "      <th></th>\n",
       "      <th>_id</th>\n",
       "      <th>projname</th>\n",
       "      <th>x</th>\n",
       "      <th>y</th>\n",
       "    </tr>\n",
       "  </thead>\n",
       "  <tbody>\n",
       "    <tr>\n",
       "      <th>0</th>\n",
       "      <td>607e40479743483142d2ee45</td>\n",
       "      <td>上海阳城</td>\n",
       "      <td>121.40511322021484</td>\n",
       "      <td>31.127880096435547</td>\n",
       "    </tr>\n",
       "    <tr>\n",
       "      <th>1</th>\n",
       "      <td>607e40479743483142d2ee46</td>\n",
       "      <td>春申景城一期</td>\n",
       "      <td>121.42086029052734</td>\n",
       "      <td>31.110912322998047</td>\n",
       "    </tr>\n",
       "    <tr>\n",
       "      <th>2</th>\n",
       "      <td>607e40479743483142d2ee47</td>\n",
       "      <td>长桥四村</td>\n",
       "      <td>121.44601440429688</td>\n",
       "      <td>31.139463424682617</td>\n",
       "    </tr>\n",
       "    <tr>\n",
       "      <th>3</th>\n",
       "      <td>607e40479743483142d2ee48</td>\n",
       "      <td>上海春城</td>\n",
       "      <td>121.4154052734375</td>\n",
       "      <td>31.109514236450195</td>\n",
       "    </tr>\n",
       "    <tr>\n",
       "      <th>4</th>\n",
       "      <td>607e40479743483142d2ee49</td>\n",
       "      <td>仁恒滨江园</td>\n",
       "      <td>121.51408386230469</td>\n",
       "      <td>31.234397888183594</td>\n",
       "    </tr>\n",
       "  </tbody>\n",
       "</table>\n",
       "</div>"
      ],
      "text/plain": [
       "                        _id projname                   x                   y\n",
       "0  607e40479743483142d2ee45     上海阳城  121.40511322021484  31.127880096435547\n",
       "1  607e40479743483142d2ee46   春申景城一期  121.42086029052734  31.110912322998047\n",
       "2  607e40479743483142d2ee47     长桥四村  121.44601440429688  31.139463424682617\n",
       "3  607e40479743483142d2ee48     上海春城   121.4154052734375  31.109514236450195\n",
       "4  607e40479743483142d2ee49    仁恒滨江园  121.51408386230469  31.234397888183594"
      ]
     },
     "execution_count": 6,
     "metadata": {},
     "output_type": "execute_result"
    }
   ],
   "source": [
    "df_point"
   ]
  },
  {
   "cell_type": "code",
   "execution_count": 7,
   "id": "e6f33e63",
   "metadata": {
    "ExecuteTime": {
     "end_time": "2022-06-25T03:48:59.117501Z",
     "start_time": "2022-06-25T03:48:59.075633Z"
    }
   },
   "outputs": [],
   "source": [
    "geomtery = gpd.points_from_xy(df_point['x'],df_point['y'],crs='epsg:4326')\n",
    "points = gpd.GeoDataFrame(df_point,geometry=geomtery)"
   ]
  },
  {
   "cell_type": "code",
   "execution_count": 8,
   "id": "747b61c5",
   "metadata": {
    "ExecuteTime": {
     "end_time": "2022-06-25T03:48:59.164389Z",
     "start_time": "2022-06-25T03:48:59.128474Z"
    }
   },
   "outputs": [
    {
     "data": {
      "text/html": [
       "<div>\n",
       "<style scoped>\n",
       "    .dataframe tbody tr th:only-of-type {\n",
       "        vertical-align: middle;\n",
       "    }\n",
       "\n",
       "    .dataframe tbody tr th {\n",
       "        vertical-align: top;\n",
       "    }\n",
       "\n",
       "    .dataframe thead th {\n",
       "        text-align: right;\n",
       "    }\n",
       "</style>\n",
       "<table border=\"1\" class=\"dataframe\">\n",
       "  <thead>\n",
       "    <tr style=\"text-align: right;\">\n",
       "      <th></th>\n",
       "      <th>_id</th>\n",
       "      <th>projname</th>\n",
       "      <th>x</th>\n",
       "      <th>y</th>\n",
       "      <th>geometry</th>\n",
       "    </tr>\n",
       "  </thead>\n",
       "  <tbody>\n",
       "    <tr>\n",
       "      <th>0</th>\n",
       "      <td>607e40479743483142d2ee45</td>\n",
       "      <td>上海阳城</td>\n",
       "      <td>121.40511322021484</td>\n",
       "      <td>31.127880096435547</td>\n",
       "      <td>POINT (121.40511 31.12788)</td>\n",
       "    </tr>\n",
       "    <tr>\n",
       "      <th>1</th>\n",
       "      <td>607e40479743483142d2ee46</td>\n",
       "      <td>春申景城一期</td>\n",
       "      <td>121.42086029052734</td>\n",
       "      <td>31.110912322998047</td>\n",
       "      <td>POINT (121.42086 31.11091)</td>\n",
       "    </tr>\n",
       "    <tr>\n",
       "      <th>2</th>\n",
       "      <td>607e40479743483142d2ee47</td>\n",
       "      <td>长桥四村</td>\n",
       "      <td>121.44601440429688</td>\n",
       "      <td>31.139463424682617</td>\n",
       "      <td>POINT (121.44601 31.13946)</td>\n",
       "    </tr>\n",
       "    <tr>\n",
       "      <th>3</th>\n",
       "      <td>607e40479743483142d2ee48</td>\n",
       "      <td>上海春城</td>\n",
       "      <td>121.4154052734375</td>\n",
       "      <td>31.109514236450195</td>\n",
       "      <td>POINT (121.41541 31.10951)</td>\n",
       "    </tr>\n",
       "    <tr>\n",
       "      <th>4</th>\n",
       "      <td>607e40479743483142d2ee49</td>\n",
       "      <td>仁恒滨江园</td>\n",
       "      <td>121.51408386230469</td>\n",
       "      <td>31.234397888183594</td>\n",
       "      <td>POINT (121.51408 31.23440)</td>\n",
       "    </tr>\n",
       "  </tbody>\n",
       "</table>\n",
       "</div>"
      ],
      "text/plain": [
       "                        _id projname                   x                   y  \\\n",
       "0  607e40479743483142d2ee45     上海阳城  121.40511322021484  31.127880096435547   \n",
       "1  607e40479743483142d2ee46   春申景城一期  121.42086029052734  31.110912322998047   \n",
       "2  607e40479743483142d2ee47     长桥四村  121.44601440429688  31.139463424682617   \n",
       "3  607e40479743483142d2ee48     上海春城   121.4154052734375  31.109514236450195   \n",
       "4  607e40479743483142d2ee49    仁恒滨江园  121.51408386230469  31.234397888183594   \n",
       "\n",
       "                     geometry  \n",
       "0  POINT (121.40511 31.12788)  \n",
       "1  POINT (121.42086 31.11091)  \n",
       "2  POINT (121.44601 31.13946)  \n",
       "3  POINT (121.41541 31.10951)  \n",
       "4  POINT (121.51408 31.23440)  "
      ]
     },
     "execution_count": 8,
     "metadata": {},
     "output_type": "execute_result"
    }
   ],
   "source": [
    "points"
   ]
  },
  {
   "cell_type": "code",
   "execution_count": 9,
   "id": "4ec49217",
   "metadata": {
    "ExecuteTime": {
     "end_time": "2022-06-25T03:48:59.257133Z",
     "start_time": "2022-06-25T03:48:59.174361Z"
    }
   },
   "outputs": [
    {
     "data": {
      "text/html": [
       "<div>\n",
       "<style scoped>\n",
       "    .dataframe tbody tr th:only-of-type {\n",
       "        vertical-align: middle;\n",
       "    }\n",
       "\n",
       "    .dataframe tbody tr th {\n",
       "        vertical-align: top;\n",
       "    }\n",
       "\n",
       "    .dataframe thead th {\n",
       "        text-align: right;\n",
       "    }\n",
       "</style>\n",
       "<table border=\"1\" class=\"dataframe\">\n",
       "  <thead>\n",
       "    <tr style=\"text-align: right;\">\n",
       "      <th></th>\n",
       "      <th>_id</th>\n",
       "      <th>direction</th>\n",
       "      <th>line_wgs84</th>\n",
       "    </tr>\n",
       "  </thead>\n",
       "  <tbody>\n",
       "    <tr>\n",
       "      <th>0</th>\n",
       "      <td>5ed790b16df18b3ccb3ce5e2</td>\n",
       "      <td>从苏州市东边界到苏州市边界</td>\n",
       "      <td>[[121.15059750532379, 31.280073883197833], [12...</td>\n",
       "    </tr>\n",
       "    <tr>\n",
       "      <th>1</th>\n",
       "      <td>5ed790b16df18b3ccb3ce5e3</td>\n",
       "      <td>从胜浦路到界浦路</td>\n",
       "      <td>[[120.82776544305959, 31.315833264040876], [12...</td>\n",
       "    </tr>\n",
       "    <tr>\n",
       "      <th>2</th>\n",
       "      <td>5ed790b16df18b3ccb3ce5e4</td>\n",
       "      <td>从界浦路到唯胜路</td>\n",
       "      <td>[[120.84966717369905, 31.320795084011507], [12...</td>\n",
       "    </tr>\n",
       "    <tr>\n",
       "      <th>3</th>\n",
       "      <td>5ed790b16df18b3ccb3ce5e5</td>\n",
       "      <td>从界浦路南口到强胜路</td>\n",
       "      <td>[[120.85361187963333, 31.312110897248864], [12...</td>\n",
       "    </tr>\n",
       "    <tr>\n",
       "      <th>4</th>\n",
       "      <td>5ed790b16df18b3ccb3ce5e6</td>\n",
       "      <td>从强胜路到界浦路南口</td>\n",
       "      <td>[[120.84262633429745, 31.338606660108773], [12...</td>\n",
       "    </tr>\n",
       "  </tbody>\n",
       "</table>\n",
       "</div>"
      ],
      "text/plain": [
       "                        _id      direction  \\\n",
       "0  5ed790b16df18b3ccb3ce5e2  从苏州市东边界到苏州市边界   \n",
       "1  5ed790b16df18b3ccb3ce5e3       从胜浦路到界浦路   \n",
       "2  5ed790b16df18b3ccb3ce5e4       从界浦路到唯胜路   \n",
       "3  5ed790b16df18b3ccb3ce5e5     从界浦路南口到强胜路   \n",
       "4  5ed790b16df18b3ccb3ce5e6     从强胜路到界浦路南口   \n",
       "\n",
       "                                          line_wgs84  \n",
       "0  [[121.15059750532379, 31.280073883197833], [12...  \n",
       "1  [[120.82776544305959, 31.315833264040876], [12...  \n",
       "2  [[120.84966717369905, 31.320795084011507], [12...  \n",
       "3  [[120.85361187963333, 31.312110897248864], [12...  \n",
       "4  [[120.84262633429745, 31.338606660108773], [12...  "
      ]
     },
     "execution_count": 9,
     "metadata": {},
     "output_type": "execute_result"
    }
   ],
   "source": [
    "df_line"
   ]
  },
  {
   "cell_type": "code",
   "execution_count": 10,
   "id": "338fd741",
   "metadata": {
    "ExecuteTime": {
     "end_time": "2022-06-25T03:48:59.350885Z",
     "start_time": "2022-06-25T03:48:59.270130Z"
    }
   },
   "outputs": [],
   "source": [
    "from shapely.geometry import LineString\n",
    "\n",
    "geomtery = gpd.GeoSeries([LineString(i) for i in df_line['line_wgs84']],crs='epsg:4326')\n",
    "\n",
    "lines = gpd.GeoDataFrame(df_line,\n",
    "                         geometry=geomtery,\n",
    "                         crs='epsg:4326')"
   ]
  },
  {
   "cell_type": "code",
   "execution_count": 11,
   "id": "5e81d758",
   "metadata": {
    "ExecuteTime": {
     "end_time": "2022-06-25T03:48:59.442831Z",
     "start_time": "2022-06-25T03:48:59.358860Z"
    }
   },
   "outputs": [
    {
     "data": {
      "text/html": [
       "<div>\n",
       "<style scoped>\n",
       "    .dataframe tbody tr th:only-of-type {\n",
       "        vertical-align: middle;\n",
       "    }\n",
       "\n",
       "    .dataframe tbody tr th {\n",
       "        vertical-align: top;\n",
       "    }\n",
       "\n",
       "    .dataframe thead th {\n",
       "        text-align: right;\n",
       "    }\n",
       "</style>\n",
       "<table border=\"1\" class=\"dataframe\">\n",
       "  <thead>\n",
       "    <tr style=\"text-align: right;\">\n",
       "      <th></th>\n",
       "      <th>_id</th>\n",
       "      <th>direction</th>\n",
       "      <th>line_wgs84</th>\n",
       "      <th>geometry</th>\n",
       "    </tr>\n",
       "  </thead>\n",
       "  <tbody>\n",
       "    <tr>\n",
       "      <th>0</th>\n",
       "      <td>5ed790b16df18b3ccb3ce5e2</td>\n",
       "      <td>从苏州市东边界到苏州市边界</td>\n",
       "      <td>[[121.15059750532379, 31.280073883197833], [12...</td>\n",
       "      <td>LINESTRING (121.15060 31.28007, 121.14976 31.2...</td>\n",
       "    </tr>\n",
       "    <tr>\n",
       "      <th>1</th>\n",
       "      <td>5ed790b16df18b3ccb3ce5e3</td>\n",
       "      <td>从胜浦路到界浦路</td>\n",
       "      <td>[[120.82776544305959, 31.315833264040876], [12...</td>\n",
       "      <td>LINESTRING (120.82777 31.31583, 120.83050 31.3...</td>\n",
       "    </tr>\n",
       "    <tr>\n",
       "      <th>2</th>\n",
       "      <td>5ed790b16df18b3ccb3ce5e4</td>\n",
       "      <td>从界浦路到唯胜路</td>\n",
       "      <td>[[120.84966717369905, 31.320795084011507], [12...</td>\n",
       "      <td>LINESTRING (120.84967 31.32080, 120.84961 31.3...</td>\n",
       "    </tr>\n",
       "    <tr>\n",
       "      <th>3</th>\n",
       "      <td>5ed790b16df18b3ccb3ce5e5</td>\n",
       "      <td>从界浦路南口到强胜路</td>\n",
       "      <td>[[120.85361187963333, 31.312110897248864], [12...</td>\n",
       "      <td>LINESTRING (120.85361 31.31211, 120.85360 31.3...</td>\n",
       "    </tr>\n",
       "    <tr>\n",
       "      <th>4</th>\n",
       "      <td>5ed790b16df18b3ccb3ce5e6</td>\n",
       "      <td>从强胜路到界浦路南口</td>\n",
       "      <td>[[120.84262633429745, 31.338606660108773], [12...</td>\n",
       "      <td>LINESTRING (120.84263 31.33861, 120.84264 31.3...</td>\n",
       "    </tr>\n",
       "  </tbody>\n",
       "</table>\n",
       "</div>"
      ],
      "text/plain": [
       "                        _id      direction  \\\n",
       "0  5ed790b16df18b3ccb3ce5e2  从苏州市东边界到苏州市边界   \n",
       "1  5ed790b16df18b3ccb3ce5e3       从胜浦路到界浦路   \n",
       "2  5ed790b16df18b3ccb3ce5e4       从界浦路到唯胜路   \n",
       "3  5ed790b16df18b3ccb3ce5e5     从界浦路南口到强胜路   \n",
       "4  5ed790b16df18b3ccb3ce5e6     从强胜路到界浦路南口   \n",
       "\n",
       "                                          line_wgs84  \\\n",
       "0  [[121.15059750532379, 31.280073883197833], [12...   \n",
       "1  [[120.82776544305959, 31.315833264040876], [12...   \n",
       "2  [[120.84966717369905, 31.320795084011507], [12...   \n",
       "3  [[120.85361187963333, 31.312110897248864], [12...   \n",
       "4  [[120.84262633429745, 31.338606660108773], [12...   \n",
       "\n",
       "                                            geometry  \n",
       "0  LINESTRING (121.15060 31.28007, 121.14976 31.2...  \n",
       "1  LINESTRING (120.82777 31.31583, 120.83050 31.3...  \n",
       "2  LINESTRING (120.84967 31.32080, 120.84961 31.3...  \n",
       "3  LINESTRING (120.85361 31.31211, 120.85360 31.3...  \n",
       "4  LINESTRING (120.84263 31.33861, 120.84264 31.3...  "
      ]
     },
     "execution_count": 11,
     "metadata": {},
     "output_type": "execute_result"
    }
   ],
   "source": [
    "lines"
   ]
  },
  {
   "cell_type": "code",
   "execution_count": null,
   "id": "ae5cc51e",
   "metadata": {},
   "outputs": [],
   "source": []
  }
 ],
 "metadata": {
  "kernelspec": {
   "display_name": "Python 3",
   "language": "python",
   "name": "python3"
  },
  "language_info": {
   "codemirror_mode": {
    "name": "ipython",
    "version": 3
   },
   "file_extension": ".py",
   "mimetype": "text/x-python",
   "name": "python",
   "nbconvert_exporter": "python",
   "pygments_lexer": "ipython3",
   "version": "3.8.8"
  },
  "toc": {
   "base_numbering": 1,
   "nav_menu": {},
   "number_sections": true,
   "sideBar": true,
   "skip_h1_title": false,
   "title_cell": "Table of Contents",
   "title_sidebar": "Contents",
   "toc_cell": false,
   "toc_position": {},
   "toc_section_display": true,
   "toc_window_display": true
  }
 },
 "nbformat": 4,
 "nbformat_minor": 5
}
