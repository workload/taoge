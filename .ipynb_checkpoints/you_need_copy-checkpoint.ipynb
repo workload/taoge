{
 "cells": [
  {
   "cell_type": "markdown",
   "id": "0e9e099a",
   "metadata": {},
   "source": [
    "# 读取mongodb数据库文件"
   ]
  },
  {
   "cell_type": "code",
   "execution_count": 1,
   "id": "c42c053d",
   "metadata": {
    "ExecuteTime": {
     "end_time": "2022-06-25T03:34:57.437617Z",
     "start_time": "2022-06-25T03:34:56.680394Z"
    }
   },
   "outputs": [],
   "source": [
    "import pymongo\n",
    "import pandas as pd\n",
    "\n",
    "myclient = pymongo.MongoClient(\"mongodb://localhost:27017/\")\n",
    "db = myclient[\"Macao\"] \n",
    "tb = db['Macao_PT_2019-08-01_10:00']\n",
    "\n",
    "# x = [i for i in tb.find()]\n",
    "x = [i for i in tb.find().limit(5).skip(5)] # 数据较大时使用\n",
    "df = pd.DataFrame(x)"
   ]
  },
  {
   "cell_type": "code",
   "execution_count": 2,
   "id": "f5b51bbb",
   "metadata": {
    "ExecuteTime": {
     "end_time": "2022-06-25T03:34:57.468162Z",
     "start_time": "2022-06-25T03:34:57.438617Z"
    }
   },
   "outputs": [
    {
     "data": {
      "text/html": [
       "<div>\n",
       "<style scoped>\n",
       "    .dataframe tbody tr th:only-of-type {\n",
       "        vertical-align: middle;\n",
       "    }\n",
       "\n",
       "    .dataframe tbody tr th {\n",
       "        vertical-align: top;\n",
       "    }\n",
       "\n",
       "    .dataframe thead th {\n",
       "        text-align: right;\n",
       "    }\n",
       "</style>\n",
       "<table border=\"1\" class=\"dataframe\">\n",
       "  <thead>\n",
       "    <tr style=\"text-align: right;\">\n",
       "      <th></th>\n",
       "      <th>_id</th>\n",
       "      <th>all_distance</th>\n",
       "      <th>all_time</th>\n",
       "      <th>all_price</th>\n",
       "      <th>all_walk_distance</th>\n",
       "      <th>all_walk_time</th>\n",
       "      <th>access_walk_distance</th>\n",
       "      <th>egress_walk_distance</th>\n",
       "      <th>number_of_boardings</th>\n",
       "      <th>label</th>\n",
       "      <th>pt</th>\n",
       "    </tr>\n",
       "  </thead>\n",
       "  <tbody>\n",
       "    <tr>\n",
       "      <th>0</th>\n",
       "      <td>62b01ceee7210870c6afca65</td>\n",
       "      <td>2808</td>\n",
       "      <td>1455</td>\n",
       "      <td>6.0</td>\n",
       "      <td>645</td>\n",
       "      <td>645</td>\n",
       "      <td>499</td>\n",
       "      <td>84</td>\n",
       "      <td>1</td>\n",
       "      <td>ID704547</td>\n",
       "      <td>1</td>\n",
       "    </tr>\n",
       "    <tr>\n",
       "      <th>1</th>\n",
       "      <td>62b01ceee7210870c6afca6a</td>\n",
       "      <td>1964</td>\n",
       "      <td>1254</td>\n",
       "      <td>6.0</td>\n",
       "      <td>465</td>\n",
       "      <td>465</td>\n",
       "      <td>231</td>\n",
       "      <td>202</td>\n",
       "      <td>1</td>\n",
       "      <td>ID581966</td>\n",
       "      <td>1</td>\n",
       "    </tr>\n",
       "    <tr>\n",
       "      <th>2</th>\n",
       "      <td>62b01ceee7210870c6afca6b</td>\n",
       "      <td>5213</td>\n",
       "      <td>2225</td>\n",
       "      <td>6.0</td>\n",
       "      <td>584</td>\n",
       "      <td>584</td>\n",
       "      <td>194</td>\n",
       "      <td>305</td>\n",
       "      <td>1</td>\n",
       "      <td>ID1199860</td>\n",
       "      <td>1</td>\n",
       "    </tr>\n",
       "    <tr>\n",
       "      <th>3</th>\n",
       "      <td>62b01ceee7210870c6afca6c</td>\n",
       "      <td>1543</td>\n",
       "      <td>1424</td>\n",
       "      <td>6.0</td>\n",
       "      <td>789</td>\n",
       "      <td>789</td>\n",
       "      <td>295</td>\n",
       "      <td>467</td>\n",
       "      <td>1</td>\n",
       "      <td>ID1017821</td>\n",
       "      <td>1</td>\n",
       "    </tr>\n",
       "    <tr>\n",
       "      <th>4</th>\n",
       "      <td>62b01ceee7210870c6afca6d</td>\n",
       "      <td>3116</td>\n",
       "      <td>1903</td>\n",
       "      <td>6.0</td>\n",
       "      <td>689</td>\n",
       "      <td>689</td>\n",
       "      <td>257</td>\n",
       "      <td>222</td>\n",
       "      <td>1</td>\n",
       "      <td>ID1183318</td>\n",
       "      <td>1</td>\n",
       "    </tr>\n",
       "  </tbody>\n",
       "</table>\n",
       "</div>"
      ],
      "text/plain": [
       "                        _id  all_distance  all_time  all_price  \\\n",
       "0  62b01ceee7210870c6afca65          2808      1455        6.0   \n",
       "1  62b01ceee7210870c6afca6a          1964      1254        6.0   \n",
       "2  62b01ceee7210870c6afca6b          5213      2225        6.0   \n",
       "3  62b01ceee7210870c6afca6c          1543      1424        6.0   \n",
       "4  62b01ceee7210870c6afca6d          3116      1903        6.0   \n",
       "\n",
       "   all_walk_distance  all_walk_time  access_walk_distance  \\\n",
       "0                645            645                   499   \n",
       "1                465            465                   231   \n",
       "2                584            584                   194   \n",
       "3                789            789                   295   \n",
       "4                689            689                   257   \n",
       "\n",
       "   egress_walk_distance  number_of_boardings      label  pt  \n",
       "0                    84                    1   ID704547   1  \n",
       "1                   202                    1   ID581966   1  \n",
       "2                   305                    1  ID1199860   1  \n",
       "3                   467                    1  ID1017821   1  \n",
       "4                   222                    1  ID1183318   1  "
      ]
     },
     "execution_count": 2,
     "metadata": {},
     "output_type": "execute_result"
    }
   ],
   "source": [
    "df"
   ]
  },
  {
   "cell_type": "code",
   "execution_count": null,
   "id": "4d719a76",
   "metadata": {},
   "outputs": [],
   "source": []
  }
 ],
 "metadata": {
  "kernelspec": {
   "display_name": "Python 3",
   "language": "python",
   "name": "python3"
  },
  "language_info": {
   "codemirror_mode": {
    "name": "ipython",
    "version": 3
   },
   "file_extension": ".py",
   "mimetype": "text/x-python",
   "name": "python",
   "nbconvert_exporter": "python",
   "pygments_lexer": "ipython3",
   "version": "3.8.8"
  },
  "toc": {
   "base_numbering": 1,
   "nav_menu": {},
   "number_sections": true,
   "sideBar": true,
   "skip_h1_title": false,
   "title_cell": "Table of Contents",
   "title_sidebar": "Contents",
   "toc_cell": false,
   "toc_position": {},
   "toc_section_display": true,
   "toc_window_display": true
  }
 },
 "nbformat": 4,
 "nbformat_minor": 5
}
